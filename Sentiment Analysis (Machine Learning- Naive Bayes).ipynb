{
 "cells": [
  {
   "cell_type": "code",
   "execution_count": 30,
   "metadata": {
    "collapsed": false
   },
   "outputs": [],
   "source": [
    "import nltk\n"
   ]
  },
  {
   "cell_type": "code",
   "execution_count": 31,
   "metadata": {
    "collapsed": true
   },
   "outputs": [],
   "source": [
    "positive_reviews_file=\"C:/Users/GR8TEST/Desktop/rt-polaritydata/rt-polaritydata/rt-polarity.pos\"\n",
    "with open(positive_reviews_file, 'r')as the_file:\n",
    "     positiveReviews= the_file.readlines()"
   ]
  },
  {
   "cell_type": "code",
   "execution_count": 32,
   "metadata": {
    "collapsed": true
   },
   "outputs": [],
   "source": [
    "negative_reviews_file=\"C:/Users/GR8TEST/Desktop/rt-polaritydata/rt-polaritydata/rt-polarity.neg\"\n",
    "with open(negative_reviews_file, 'r')as the_file:\n",
    "    negativeReviews= the_file.readlines()"
   ]
  },
  {
   "cell_type": "code",
   "execution_count": 33,
   "metadata": {
    "collapsed": false
   },
   "outputs": [],
   "source": [
    "testTrainingSplitIndex = 2500\n",
    "\n",
    "testNegativeReviews = negativeReviews[testTrainingSplitIndex+1:]\n",
    "testPositiveReviews = positiveReviews[testTrainingSplitIndex+1:]\n",
    "\n",
    "trainingNegativeReviews = negativeReviews[:testTrainingSplitIndex]\n",
    "trainingPositiveReviews = positiveReviews[:testTrainingSplitIndex]\n",
    "\n"
   ]
  },
  {
   "cell_type": "code",
   "execution_count": 34,
   "metadata": {
    "collapsed": true
   },
   "outputs": [],
   "source": [
    "def getTestReviewSentiments(naiveBayesSentimentCalculator):\n",
    "  testNegResults = [naiveBayesSentimentCalculator(review) for review in testNegativeReviews]\n",
    "  testPosResults = [naiveBayesSentimentCalculator(review) for review in testPositiveReviews]\n",
    "  labelToNum = {'positive':1,'negative':-1}\n",
    "  numericNegResults = [labelToNum[x] for x in testNegResults]\n",
    "  numericPosResults = [labelToNum[x] for x in testPosResults]\n",
    "  return {'results-on-positive':numericPosResults, 'results-on-negative':numericNegResults}"
   ]
  },
  {
   "cell_type": "code",
   "execution_count": 35,
   "metadata": {
    "collapsed": false
   },
   "outputs": [],
   "source": [
    "def runDiagnostics(reviewResult):\n",
    "  positiveReviewsResult = reviewResult['results-on-positive']\n",
    "  negativeReviewsResult = reviewResult['results-on-negative']\n",
    "  numTruePositive = sum(x > 0 for x in positiveReviewsResult)\n",
    "  numTrueNegative = sum(x < 0 for x in negativeReviewsResult)\n",
    "  pctTruePositive = float(numTruePositive)/len(positiveReviewsResult)\n",
    "  pctTrueNegative = float(numTrueNegative)/len(negativeReviewsResult)  \n",
    "  totalAccurate = numTruePositive + numTrueNegative\n",
    "  total = len(positiveReviewsResult) + len(negativeReviewsResult)\n",
    "  print (\"Accuracy on positive reviews = \", \"%.2f\" % (pctTruePositive*100) )\n",
    "  print (\"Accurance on negative reviews = \", \"%.2f\" % (pctTrueNegative*100) )\n",
    "    \n",
    "  print (\"Overall accuracy = \" , \"%.2f\" % (totalAccurate*100/total))"
   ]
  },
  {
   "cell_type": "code",
   "execution_count": 36,
   "metadata": {
    "collapsed": true
   },
   "outputs": [],
   "source": [
    "def getVocabulary():\n",
    "  positiveWordList = [word for line in trainingPositiveReviews for word in line.split()]\n",
    "  negativeWordList = [word for line in trainingNegativeReviews for word in line.split()]\n",
    "  allWordList = [item for sublist in [positiveWordList,negativeWordList] for item in sublist]\n",
    "  allWordSet = list(set(allWordList))\n",
    "  vocabulary = allWordSet\n",
    "  return vocabulary"
   ]
  },
  {
   "cell_type": "code",
   "execution_count": 37,
   "metadata": {
    "collapsed": true
   },
   "outputs": [],
   "source": [
    "def getTrainingData():\n",
    "  negTaggedTrainingReviewList = [{'review':oneReview.split(),'label':'negative'} for oneReview in trainingNegativeReviews] \n",
    "  posTaggedTrainingReviewList = [{'review':oneReview.split(),'label':'positive'} for oneReview in trainingPositiveReviews] \n",
    "  fullTaggedTrainingData = [item for sublist in [negTaggedTrainingReviewList,posTaggedTrainingReviewList] for item in sublist]\n",
    "  trainingData = [(review['review'],review['label']) for review in fullTaggedTrainingData]\n",
    "  return trainingData"
   ]
  },
  {
   "cell_type": "code",
   "execution_count": 38,
   "metadata": {
    "collapsed": true
   },
   "outputs": [],
   "source": [
    "def extract_features(review):\n",
    "  review_words=set(review)\n",
    "  features={}\n",
    "  for word in vocabulary:\n",
    "      features[word]=(word in review_words)\n",
    "  return features "
   ]
  },
  {
   "cell_type": "code",
   "execution_count": 39,
   "metadata": {
    "collapsed": true
   },
   "outputs": [],
   "source": [
    "def getTrainedNaiveBayesClassifier(extract_features, trainingData):\n",
    "  trainingFeatures=nltk.classify.apply_features(extract_features, trainingData)\n",
    "  trainedNBClassifier=nltk.NaiveBayesClassifier.train(trainingFeatures)\n",
    "  return trainedNBClassifier"
   ]
  },
  {
   "cell_type": "code",
   "execution_count": 40,
   "metadata": {
    "collapsed": false
   },
   "outputs": [
    {
     "name": "stdout",
     "output_type": "stream",
     "text": [
      "Accuracy on positive reviews =  73.39\n",
      "Accurance on negative reviews =  77.07\n",
      "Overall accuracy =  75.23\n",
      "Accuracy on positive reviews =  73.39\n",
      "Accurance on negative reviews =  77.07\n",
      "Overall accuracy =  75.23\n",
      "None\n"
     ]
    }
   ],
   "source": [
    "vocabulary = getVocabulary()\n",
    "trainingData = getTrainingData()\n",
    "trainedNBClassifier = getTrainedNaiveBayesClassifier(extract_features,trainingData)\n",
    "\n",
    "def naiveBayesSentimentCalculator(review):\n",
    "  problemInstance = review.split()\n",
    "  problemFeatures = extract_features(problemInstance)\n",
    "  return trainedNBClassifier.classify(problemFeatures)\n",
    "\n",
    "naiveBayesSentimentCalculator(\"What an awesome movie\")\n",
    "naiveBayesSentimentCalculator(\"What a terrible movie\")\n",
    "\n",
    "runDiagnostics(getTestReviewSentiments(naiveBayesSentimentCalculator))\n",
    "runDiagnostics(getTestReviewSentiments(naiveBayesSentimentCalculator))"
   ]
  },
  {
   "cell_type": "code",
   "execution_count": 48,
   "metadata": {
    "collapsed": false
   },
   "outputs": [
    {
     "name": "stdout",
     "output_type": "stream",
     "text": [
      "positive\n",
      "positive\n"
     ]
    }
   ],
   "source": [
    "print(naiveBayesSentimentCalculator(\"you have done good but the best\"))\n",
    "print(naiveBayesSentimentCalculator(\"awesome\"))"
   ]
  },
  {
   "cell_type": "code",
   "execution_count": null,
   "metadata": {
    "collapsed": true
   },
   "outputs": [],
   "source": []
  },
  {
   "cell_type": "code",
   "execution_count": null,
   "metadata": {
    "collapsed": true
   },
   "outputs": [],
   "source": []
  },
  {
   "cell_type": "code",
   "execution_count": null,
   "metadata": {
    "collapsed": true
   },
   "outputs": [],
   "source": []
  },
  {
   "cell_type": "code",
   "execution_count": null,
   "metadata": {
    "collapsed": true
   },
   "outputs": [],
   "source": []
  },
  {
   "cell_type": "code",
   "execution_count": null,
   "metadata": {
    "collapsed": true
   },
   "outputs": [],
   "source": []
  },
  {
   "cell_type": "code",
   "execution_count": null,
   "metadata": {
    "collapsed": true
   },
   "outputs": [],
   "source": []
  },
  {
   "cell_type": "code",
   "execution_count": null,
   "metadata": {
    "collapsed": true
   },
   "outputs": [],
   "source": []
  },
  {
   "cell_type": "code",
   "execution_count": null,
   "metadata": {
    "collapsed": true
   },
   "outputs": [],
   "source": []
  },
  {
   "cell_type": "code",
   "execution_count": null,
   "metadata": {
    "collapsed": true
   },
   "outputs": [],
   "source": []
  }
 ],
 "metadata": {
  "anaconda-cloud": {},
  "kernelspec": {
   "display_name": "Python [conda root]",
   "language": "python",
   "name": "conda-root-py"
  },
  "language_info": {
   "codemirror_mode": {
    "name": "ipython",
    "version": 3
   },
   "file_extension": ".py",
   "mimetype": "text/x-python",
   "name": "python",
   "nbconvert_exporter": "python",
   "pygments_lexer": "ipython3",
   "version": "3.5.2"
  }
 },
 "nbformat": 4,
 "nbformat_minor": 1
}
