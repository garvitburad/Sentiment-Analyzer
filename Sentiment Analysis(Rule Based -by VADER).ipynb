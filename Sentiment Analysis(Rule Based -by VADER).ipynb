{
 "cells": [
  {
   "cell_type": "code",
   "execution_count": 69,
   "metadata": {
    "collapsed": true
   },
   "outputs": [],
   "source": [
    "from nltk.sentiment import vader\n"
   ]
  },
  {
   "cell_type": "code",
   "execution_count": 86,
   "metadata": {
    "collapsed": false
   },
   "outputs": [
    {
     "name": "stdout",
     "output_type": "stream",
     "text": [
      "positive\n"
     ]
    }
   ],
   "source": [
    "test_sentence = vader.SentimentIntensityAnalyzer()\n",
    "\n",
    "new=test_sentence.polarity_scores(\"the new market standings of the company's stocks are very satisfactory than we expected\")\n",
    "if new['compound']>0:\n",
    "    print('positive')\n",
    "else:\n",
    "    print('negative')"
   ]
  },
  {
   "cell_type": "code",
   "execution_count": null,
   "metadata": {
    "collapsed": true
   },
   "outputs": [],
   "source": []
  },
  {
   "cell_type": "markdown",
   "metadata": {},
   "source": [
    "## Calculating the accuracy for positive sentiments over a total of 5331 sentences "
   ]
  },
  {
   "cell_type": "code",
   "execution_count": 71,
   "metadata": {
    "collapsed": true
   },
   "outputs": [],
   "source": [
    "positive_reviews_file=\"C:/Users/GR8TEST/Desktop/rt-polaritydata/rt-polaritydata/rt-polarity.pos\"\n",
    "with open(positive_reviews_file, 'r')as the_file:\n",
    "    positive_reviews= the_file.readlines()"
   ]
  },
  {
   "cell_type": "code",
   "execution_count": 72,
   "metadata": {
    "collapsed": false
   },
   "outputs": [
    {
     "name": "stdout",
     "output_type": "stream",
     "text": [
      "3702\n",
      "positive accuracy is\n",
      "69.44288126055149 %\n"
     ]
    }
   ],
   "source": [
    "my_analysis_ranks= []         # create a empty list\n",
    "k=0\n",
    "count=0\n",
    "for i in positive_reviews:    # iterate through the sentences which were read from the rt-polarity.pos file in the foem of list\n",
    "    k=k+1\n",
    "    j=test_sentence.polarity_scores(i)   # calculating the sentiment score for each sentence\n",
    "    my_analysis_ranks.insert(k,j['compound'])   #inserting the compound score in the empty list with the index number\n",
    "for i in my_analysis_ranks:\n",
    "    if i>0.0 :                     # finding the positive analysis and their total count\n",
    "        count=count+1\n",
    "print(count)   \n",
    "accuracy_positive=(count/5331)*100\n",
    "print(\"positive accuracy is\")\n",
    "print(accuracy_positive,\"%\")"
   ]
  },
  {
   "cell_type": "markdown",
   "metadata": {},
   "source": [
    "## Calculating the accuracy for negative sentiments over a total of 5331 sentences "
   ]
  },
  {
   "cell_type": "code",
   "execution_count": 73,
   "metadata": {
    "collapsed": true
   },
   "outputs": [],
   "source": [
    "negative_reviews_file=\"C:/Users/GR8TEST/Desktop/rt-polaritydata/rt-polaritydata/rt-polarity.neg\"\n",
    "with open(negative_reviews_file, 'r')as the_file:\n",
    "    negative_reviews= the_file.readlines()"
   ]
  },
  {
   "cell_type": "code",
   "execution_count": 74,
   "metadata": {
    "collapsed": false
   },
   "outputs": [
    {
     "name": "stdout",
     "output_type": "stream",
     "text": [
      "2252\n",
      "negative accuracy is\n",
      "42.24348152316639 %\n"
     ]
    }
   ],
   "source": [
    "my_analysis_ranks_neg= []         # create a empty list\n",
    "k=0\n",
    "countn=0\n",
    "for i in negative_reviews:    # iterate through the sentences which were read from the rt-polarity.pos file in the form of list\n",
    "    k=k+1\n",
    "    j=test_sentence.polarity_scores(i)   # calculating the sentiment score for each sentence\n",
    "    my_analysis_ranks_neg.insert(k,j['compound'])   #inserting the compound score in the empty list with the index number\n",
    "for i in my_analysis_ranks_neg:\n",
    "    if i>0.0 :                     # finding the negative analysis and their total count\n",
    "        countn=countn+1\n",
    "print(countn)   \n",
    "accuracy_negative=(countn/5331)*100\n",
    "print(\"negative accuracy is\")\n",
    "print(accuracy_negative,\"%\")"
   ]
  },
  {
   "cell_type": "code",
   "execution_count": 75,
   "metadata": {
    "collapsed": false
   },
   "outputs": [
    {
     "name": "stdout",
     "output_type": "stream",
     "text": [
      "overall accuracy of vader = 55.84318139185894\n"
     ]
    }
   ],
   "source": [
    "print(\"overall accuracy of vader =\",((count+countn)/(5331*2)*100))"
   ]
  },
  {
   "cell_type": "code",
   "execution_count": null,
   "metadata": {
    "collapsed": true
   },
   "outputs": [],
   "source": []
  },
  {
   "cell_type": "code",
   "execution_count": null,
   "metadata": {
    "collapsed": true
   },
   "outputs": [],
   "source": []
  },
  {
   "cell_type": "code",
   "execution_count": null,
   "metadata": {
    "collapsed": true
   },
   "outputs": [],
   "source": []
  },
  {
   "cell_type": "code",
   "execution_count": null,
   "metadata": {
    "collapsed": true
   },
   "outputs": [],
   "source": []
  }
 ],
 "metadata": {
  "anaconda-cloud": {},
  "kernelspec": {
   "display_name": "Python [conda root]",
   "language": "python",
   "name": "conda-root-py"
  },
  "language_info": {
   "codemirror_mode": {
    "name": "ipython",
    "version": 3
   },
   "file_extension": ".py",
   "mimetype": "text/x-python",
   "name": "python",
   "nbconvert_exporter": "python",
   "pygments_lexer": "ipython3",
   "version": "3.5.2"
  }
 },
 "nbformat": 4,
 "nbformat_minor": 1
}
